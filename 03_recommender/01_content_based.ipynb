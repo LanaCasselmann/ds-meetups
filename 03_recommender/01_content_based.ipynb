{
 "cells": [
  {
   "cell_type": "markdown",
   "metadata": {},
   "source": [
    "To open this notebook in Google Colab and start coding, click on the Colab icon below.\n",
    "\n",
    "<table style=\"border:2px solid orange\" align=\"left\">\n",
    "    <td style=\"border:2px solid orange\">\n",
    "        <a target=\"_blank\" href=\"https://colab.research.google.com/github/neuefische/ds-meetups/blob/main/03_Recommender_Introduction/01_content_based.ipynb\">\n",
    "        <img src=\"https://www.tensorflow.org/images/colab_logo_32px.png\" />Run in Google Colab</a>\n",
    "    </td>\n",
    "</table>"
   ]
  },
  {
   "cell_type": "markdown",
   "metadata": {},
   "source": [
    "# Content based recommender system"
   ]
  },
  {
   "cell_type": "markdown",
   "metadata": {},
   "source": [
    "Recommender systems are algorithms which suggest information of interest to the user. If you ever used the internet, you will surely have made contact with a recommender system. Netflix, Amazon, Spotify, all make use of such functions to improve user satisfaction as well as buying behavior. Based on your previous activityThe recommender system will suggest you the next video, product, song or whatever. The most common recommender types are content based, collaborative filtering and hybrid models of those two types.\n",
    "\n",
    "Having enough user data do build a proper collaborative model is usally an obstacle at the beginning, as there is little known about the users behaviour. This is also referred to as the cold start problem in recommender systems. In this notebook you will learn how to build a content based recommender-system. A content based model has the advantage that no user data is required and the model can be scaled to a large number of users independently of their preferences. Solving the cold start problem. For a content based recommender system the filtering is based on the item features only.\n",
    "<br/><br/>\n",
    "<p align=\"center\">\n",
    "    <img src=\"images/book_text.png\" alt=\"drawing\" width=\"400\"/>\n",
    "</p>\n",
    "<br/><br/>\n",
    "An example: If you have a book that has the features \"aquarium\" and \"fish\" you would get recommendations with the same features, so books about aquarium fish without any usage of ratings or user data.\n"
   ]
  },
  {
   "cell_type": "markdown",
   "metadata": {},
   "source": [
    "Let's start with building your own content based recommender system!"
   ]
  },
  {
   "cell_type": "markdown",
   "metadata": {},
   "source": [
    "Import packages:"
   ]
  },
  {
   "cell_type": "code",
   "execution_count": 152,
   "metadata": {},
   "outputs": [],
   "source": [
    "#requirements\n",
    "import pandas as pd\n",
    "import numpy as np\n",
    "from sklearn.feature_extraction.text import TfidfVectorizer\n",
    "from sklearn.metrics.pairwise import linear_kernel\n",
    "from sklearn.metrics.pairwise import cosine_similarity"
   ]
  },
  {
   "cell_type": "markdown",
   "metadata": {},
   "source": [
    "Now, let's read in the data."
   ]
  },
  {
   "cell_type": "code",
   "execution_count": 153,
   "metadata": {},
   "outputs": [
    {
     "data": {
      "text/html": [
       "<div>\n",
       "<style scoped>\n",
       "    .dataframe tbody tr th:only-of-type {\n",
       "        vertical-align: middle;\n",
       "    }\n",
       "\n",
       "    .dataframe tbody tr th {\n",
       "        vertical-align: top;\n",
       "    }\n",
       "\n",
       "    .dataframe thead th {\n",
       "        text-align: right;\n",
       "    }\n",
       "</style>\n",
       "<table border=\"1\" class=\"dataframe\">\n",
       "  <thead>\n",
       "    <tr style=\"text-align: right;\">\n",
       "      <th></th>\n",
       "      <th>name</th>\n",
       "      <th>water_parameters</th>\n",
       "      <th>fish_group</th>\n",
       "      <th>compatibility_with_crabs</th>\n",
       "      <th>temperature</th>\n",
       "      <th>pelvic_region</th>\n",
       "      <th>behaviour</th>\n",
       "      <th>compatibility_with_fish</th>\n",
       "      <th>tank_size</th>\n",
       "      <th>breeding</th>\n",
       "      <th>...</th>\n",
       "      <th>origin</th>\n",
       "      <th>diet</th>\n",
       "      <th>vegetation_possible</th>\n",
       "      <th>compatibility_with_snails_shells</th>\n",
       "      <th>compatibility_with_dwarf_crayfish</th>\n",
       "      <th>final_size</th>\n",
       "      <th>level_of_difficulty</th>\n",
       "      <th>characteristics</th>\n",
       "      <th>compatibility_with_large_crayfish</th>\n",
       "      <th>life_expectancy</th>\n",
       "    </tr>\n",
       "  </thead>\n",
       "  <tbody>\n",
       "    <tr>\n",
       "      <th>0</th>\n",
       "      <td>Cardinalfish - Tanichthys albonubes</td>\n",
       "      <td>soft to hard</td>\n",
       "      <td>Beardies</td>\n",
       "      <td>no</td>\n",
       "      <td>18-22 °C</td>\n",
       "      <td>everywhere</td>\n",
       "      <td>active</td>\n",
       "      <td>yes, with peaceful fish</td>\n",
       "      <td>54 l (ca. 60cm)</td>\n",
       "      <td>medium</td>\n",
       "      <td>...</td>\n",
       "      <td>Asia</td>\n",
       "      <td>omnivorous - omnivorous</td>\n",
       "      <td>yes</td>\n",
       "      <td>yes</td>\n",
       "      <td>yes</td>\n",
       "      <td>4-8 cm</td>\n",
       "      <td>1 - easy</td>\n",
       "      <td>dynamic group behaviour</td>\n",
       "      <td>no</td>\n",
       "      <td>3-5 years</td>\n",
       "    </tr>\n",
       "    <tr>\n",
       "      <th>1</th>\n",
       "      <td>Red-headed Tetra - Petitella (Hemigrammus) ble...</td>\n",
       "      <td>soft to medium hard</td>\n",
       "      <td>Tetra</td>\n",
       "      <td>NaN</td>\n",
       "      <td>25-30 °C</td>\n",
       "      <td>top</td>\n",
       "      <td>NaN</td>\n",
       "      <td>NaN</td>\n",
       "      <td>100 l (ca. 80cm)</td>\n",
       "      <td>hard</td>\n",
       "      <td>...</td>\n",
       "      <td>South America</td>\n",
       "      <td>omnivorous - omnivorous</td>\n",
       "      <td>yes</td>\n",
       "      <td>yes</td>\n",
       "      <td>yes</td>\n",
       "      <td>4-8 cm</td>\n",
       "      <td>2 - normal</td>\n",
       "      <td>NaN</td>\n",
       "      <td>NaN</td>\n",
       "      <td>NaN</td>\n",
       "    </tr>\n",
       "    <tr>\n",
       "      <th>2</th>\n",
       "      <td>Blue Neon - Paracheirodon simulans</td>\n",
       "      <td>soft to medium hard</td>\n",
       "      <td>Tetra</td>\n",
       "      <td>NaN</td>\n",
       "      <td>25-30 °C</td>\n",
       "      <td>center</td>\n",
       "      <td>NaN</td>\n",
       "      <td>NaN</td>\n",
       "      <td>54 l (ca. 60cm)</td>\n",
       "      <td>hard</td>\n",
       "      <td>...</td>\n",
       "      <td>South America</td>\n",
       "      <td>omnivorous - omnivorous</td>\n",
       "      <td>yes</td>\n",
       "      <td>yes</td>\n",
       "      <td>yes</td>\n",
       "      <td>1-4 cm</td>\n",
       "      <td>1 - easy</td>\n",
       "      <td>NaN</td>\n",
       "      <td>NaN</td>\n",
       "      <td>NaN</td>\n",
       "    </tr>\n",
       "    <tr>\n",
       "      <th>3</th>\n",
       "      <td>Red Neon XL - Paracheirodon axelrodi</td>\n",
       "      <td>soft to medium hard</td>\n",
       "      <td>Tetra</td>\n",
       "      <td>NaN</td>\n",
       "      <td>25-30 °C</td>\n",
       "      <td>center</td>\n",
       "      <td>NaN</td>\n",
       "      <td>NaN</td>\n",
       "      <td>54 l (ca. 60cm)</td>\n",
       "      <td>hard</td>\n",
       "      <td>...</td>\n",
       "      <td>South America</td>\n",
       "      <td>omnivorous - omnivorous</td>\n",
       "      <td>yes</td>\n",
       "      <td>yes</td>\n",
       "      <td>yes</td>\n",
       "      <td>4-8 cm</td>\n",
       "      <td>1 - easy</td>\n",
       "      <td>NaN</td>\n",
       "      <td>NaN</td>\n",
       "      <td>NaN</td>\n",
       "    </tr>\n",
       "    <tr>\n",
       "      <th>4</th>\n",
       "      <td>Neon Tetra - Paracheirodon innesi</td>\n",
       "      <td>soft to medium hard</td>\n",
       "      <td>Tetra</td>\n",
       "      <td>NaN</td>\n",
       "      <td>25-30 °C</td>\n",
       "      <td>top</td>\n",
       "      <td>NaN</td>\n",
       "      <td>NaN</td>\n",
       "      <td>54 l (ca. 60cm)</td>\n",
       "      <td>hard</td>\n",
       "      <td>...</td>\n",
       "      <td>South America</td>\n",
       "      <td>omnivorous - omnivorous</td>\n",
       "      <td>yes</td>\n",
       "      <td>yes</td>\n",
       "      <td>yes</td>\n",
       "      <td>1-4 cm</td>\n",
       "      <td>2 - normal</td>\n",
       "      <td>NaN</td>\n",
       "      <td>NaN</td>\n",
       "      <td>NaN</td>\n",
       "    </tr>\n",
       "  </tbody>\n",
       "</table>\n",
       "<p>5 rows × 22 columns</p>\n",
       "</div>"
      ],
      "text/plain": [
       "                                                name     water_parameters  \\\n",
       "0                Cardinalfish - Tanichthys albonubes         soft to hard   \n",
       "1  Red-headed Tetra - Petitella (Hemigrammus) ble...  soft to medium hard   \n",
       "2                 Blue Neon - Paracheirodon simulans  soft to medium hard   \n",
       "3               Red Neon XL - Paracheirodon axelrodi  soft to medium hard   \n",
       "4                  Neon Tetra - Paracheirodon innesi  soft to medium hard   \n",
       "\n",
       "  fish_group compatibility_with_crabs temperature pelvic_region behaviour  \\\n",
       "0   Beardies                       no    18-22 °C    everywhere    active   \n",
       "1      Tetra                      NaN    25-30 °C           top       NaN   \n",
       "2      Tetra                      NaN    25-30 °C        center       NaN   \n",
       "3      Tetra                      NaN    25-30 °C        center       NaN   \n",
       "4      Tetra                      NaN    25-30 °C           top       NaN   \n",
       "\n",
       "   compatibility_with_fish         tank_size breeding  ...         origin  \\\n",
       "0  yes, with peaceful fish   54 l (ca. 60cm)   medium  ...           Asia   \n",
       "1                      NaN  100 l (ca. 80cm)     hard  ...  South America   \n",
       "2                      NaN   54 l (ca. 60cm)     hard  ...  South America   \n",
       "3                      NaN   54 l (ca. 60cm)     hard  ...  South America   \n",
       "4                      NaN   54 l (ca. 60cm)     hard  ...  South America   \n",
       "\n",
       "                      diet vegetation_possible  \\\n",
       "0  omnivorous - omnivorous                 yes   \n",
       "1  omnivorous - omnivorous                 yes   \n",
       "2  omnivorous - omnivorous                 yes   \n",
       "3  omnivorous - omnivorous                 yes   \n",
       "4  omnivorous - omnivorous                 yes   \n",
       "\n",
       "  compatibility_with_snails_shells compatibility_with_dwarf_crayfish  \\\n",
       "0                              yes                               yes   \n",
       "1                              yes                               yes   \n",
       "2                              yes                               yes   \n",
       "3                              yes                               yes   \n",
       "4                              yes                               yes   \n",
       "\n",
       "  final_size level_of_difficulty          characteristics  \\\n",
       "0     4-8 cm            1 - easy  dynamic group behaviour   \n",
       "1     4-8 cm          2 - normal                      NaN   \n",
       "2     1-4 cm            1 - easy                      NaN   \n",
       "3     4-8 cm            1 - easy                      NaN   \n",
       "4     1-4 cm          2 - normal                      NaN   \n",
       "\n",
       "  compatibility_with_large_crayfish life_expectancy  \n",
       "0                                no       3-5 years  \n",
       "1                               NaN             NaN  \n",
       "2                               NaN             NaN  \n",
       "3                               NaN             NaN  \n",
       "4                               NaN             NaN  \n",
       "\n",
       "[5 rows x 22 columns]"
      ]
     },
     "execution_count": 153,
     "metadata": {},
     "output_type": "execute_result"
    }
   ],
   "source": [
    "#read data\n",
    "df = pd.read_csv(\"data/fish_1.csv\")\n",
    "df.reset_index(drop= True)\n",
    "df.head()"
   ]
  },
  {
   "cell_type": "markdown",
   "metadata": {},
   "source": [
    "## Cosine similarity \n",
    "\n",
    "To get meaningful recommendations, it is important to measure the similarity of two items. To do so, cosine similarity is the most popular metric for content based models. Mathematically, the cosine similarity is the dot product of normalized vectors and measures the cosine of the angle between two vectors projected in a n-dimensional space (n = number of features). Output values are limited between 0 and 1, with a value of 0 indicating no similarity, whereas 1 means that both the items are identical. "
   ]
  },
  {
   "cell_type": "markdown",
   "metadata": {},
   "source": [
    "If you got a two-dimensional space and the angle of two data points is 45° the cosine would be 0.7 while it would be zero for an angle of 90°. In a data frame each feature represents a dimension. This means, every observation (row) could be plotted in a n-dimensional space based on it's feature-properties. Let's have a look at two examples:"
   ]
  },
  {
   "cell_type": "markdown",
   "metadata": {},
   "source": [
    "### Example 1: 2-dimensional space "
   ]
  },
  {
   "cell_type": "markdown",
   "metadata": {},
   "source": [
    "Let's assume, we got two fish with different colors. One fish is solid blue, while the other is solid orange. Plotted in a 2-dimensional space, where one axis represents the color blue and the other the color orange, one fish would have the coordinates (1,0) and the other (0,1). A fish with both colours would be in bewtween (1,1). To calculate the cosine similarity score between two fish, we simply measure the cosine of the two coordinate vectors. \n",
    "\n",
    "<br/><br/>\n",
    "<p align=\"center\">\n",
    "    <img src=\"images/fish_text.png\" alt=\"drawing\" width=\"300\"/>\n",
    "</p>\n",
    "<br/><br/>\n",
    "The vectors of the blue and orange fish and the solid orange fish would have a 45° angle, therefore a cosine similarity of 0.7. Just the same if we compare the solid blue and the blue and orange fish. The solid blue and the solid orange fish would have an angle of 90° and hence a cosine of 0, so no similarity at all with respect to the feature color. "
   ]
  },
  {
   "cell_type": "markdown",
   "metadata": {},
   "source": [
    "### Example 2: 4-dimensional space"
   ]
  },
  {
   "cell_type": "code",
   "execution_count": 154,
   "metadata": {},
   "outputs": [
    {
     "data": {
      "text/html": [
       "<div>\n",
       "<style scoped>\n",
       "    .dataframe tbody tr th:only-of-type {\n",
       "        vertical-align: middle;\n",
       "    }\n",
       "\n",
       "    .dataframe tbody tr th {\n",
       "        vertical-align: top;\n",
       "    }\n",
       "\n",
       "    .dataframe thead th {\n",
       "        text-align: right;\n",
       "    }\n",
       "</style>\n",
       "<table border=\"1\" class=\"dataframe\">\n",
       "  <thead>\n",
       "    <tr style=\"text-align: right;\">\n",
       "      <th></th>\n",
       "      <th>green</th>\n",
       "      <th>blue</th>\n",
       "      <th>yellow</th>\n",
       "      <th>black</th>\n",
       "    </tr>\n",
       "  </thead>\n",
       "  <tbody>\n",
       "    <tr>\n",
       "      <th>fish1</th>\n",
       "      <td>1</td>\n",
       "      <td>1</td>\n",
       "      <td>0</td>\n",
       "      <td>1</td>\n",
       "    </tr>\n",
       "    <tr>\n",
       "      <th>fish2</th>\n",
       "      <td>1</td>\n",
       "      <td>0</td>\n",
       "      <td>0</td>\n",
       "      <td>0</td>\n",
       "    </tr>\n",
       "    <tr>\n",
       "      <th>fish3</th>\n",
       "      <td>0</td>\n",
       "      <td>0</td>\n",
       "      <td>1</td>\n",
       "      <td>0</td>\n",
       "    </tr>\n",
       "    <tr>\n",
       "      <th>fish4</th>\n",
       "      <td>1</td>\n",
       "      <td>1</td>\n",
       "      <td>1</td>\n",
       "      <td>1</td>\n",
       "    </tr>\n",
       "    <tr>\n",
       "      <th>fish5</th>\n",
       "      <td>1</td>\n",
       "      <td>1</td>\n",
       "      <td>0</td>\n",
       "      <td>1</td>\n",
       "    </tr>\n",
       "  </tbody>\n",
       "</table>\n",
       "</div>"
      ],
      "text/plain": [
       "       green  blue  yellow  black\n",
       "fish1      1     1       0      1\n",
       "fish2      1     0       0      0\n",
       "fish3      0     0       1      0\n",
       "fish4      1     1       1      1\n",
       "fish5      1     1       0      1"
      ]
     },
     "execution_count": 154,
     "metadata": {},
     "output_type": "execute_result"
    }
   ],
   "source": [
    "#create example data frame\n",
    "d = {'green': [1, 1, 0, 1, 1], 'blue': [1, 0, 0, 1, 1], 'yellow': [0, 0, 1, 1, 0], 'black': [1, 0, 0, 1, 1]}\n",
    "df_example2 = pd.DataFrame(data = d, index= [\"fish1\", \"fish2\", \"fish3\", \"fish4\", \"fish5\"])\n",
    "df_example2"
   ]
  },
  {
   "cell_type": "markdown",
   "metadata": {},
   "source": [
    "For this example let's think of 5 different fish. Each fish has a different combination of the colors green, blue, yellow and black. Those colors are the features of the fish and likewise the dimensionality of the data. Each feature is represented by a value of 0 or 1, while 0 means the fish doesn't have this color and 1 if it has. So in this case fish1 has the colors green, blue and yellow. If we assign colors to dimensions we get the coordinates (1,1,0,1). The following equation allows us to calculate the cosine similarity for multi-dimensional data: "
   ]
  },
  {
   "cell_type": "markdown",
   "metadata": {},
   "source": [
    "$$\n",
    "  CosSim(x,y) = \\frac{\\sum_{i}x_{i}y_{i}}{\\sqrt{\\sum_{i}x_{i}^2}\\sqrt{\\sum_{i}y_{i}^2}}\n",
    "$$"
   ]
  },
  {
   "cell_type": "markdown",
   "metadata": {},
   "source": [
    "If we calculate the cosine similarity on our data frame, we get:"
   ]
  },
  {
   "cell_type": "code",
   "execution_count": 155,
   "metadata": {},
   "outputs": [
    {
     "data": {
      "text/html": [
       "<div>\n",
       "<style scoped>\n",
       "    .dataframe tbody tr th:only-of-type {\n",
       "        vertical-align: middle;\n",
       "    }\n",
       "\n",
       "    .dataframe tbody tr th {\n",
       "        vertical-align: top;\n",
       "    }\n",
       "\n",
       "    .dataframe thead th {\n",
       "        text-align: right;\n",
       "    }\n",
       "</style>\n",
       "<table border=\"1\" class=\"dataframe\">\n",
       "  <thead>\n",
       "    <tr style=\"text-align: right;\">\n",
       "      <th></th>\n",
       "      <th>fish1</th>\n",
       "      <th>fish2</th>\n",
       "      <th>fish3</th>\n",
       "      <th>fish4</th>\n",
       "      <th>fish5</th>\n",
       "    </tr>\n",
       "  </thead>\n",
       "  <tbody>\n",
       "    <tr>\n",
       "      <th>fish1</th>\n",
       "      <td>1.000000</td>\n",
       "      <td>0.57735</td>\n",
       "      <td>0.0</td>\n",
       "      <td>0.866025</td>\n",
       "      <td>1.000000</td>\n",
       "    </tr>\n",
       "    <tr>\n",
       "      <th>fish2</th>\n",
       "      <td>0.577350</td>\n",
       "      <td>1.00000</td>\n",
       "      <td>0.0</td>\n",
       "      <td>0.500000</td>\n",
       "      <td>0.577350</td>\n",
       "    </tr>\n",
       "    <tr>\n",
       "      <th>fish3</th>\n",
       "      <td>0.000000</td>\n",
       "      <td>0.00000</td>\n",
       "      <td>1.0</td>\n",
       "      <td>0.500000</td>\n",
       "      <td>0.000000</td>\n",
       "    </tr>\n",
       "    <tr>\n",
       "      <th>fish4</th>\n",
       "      <td>0.866025</td>\n",
       "      <td>0.50000</td>\n",
       "      <td>0.5</td>\n",
       "      <td>1.000000</td>\n",
       "      <td>0.866025</td>\n",
       "    </tr>\n",
       "    <tr>\n",
       "      <th>fish5</th>\n",
       "      <td>1.000000</td>\n",
       "      <td>0.57735</td>\n",
       "      <td>0.0</td>\n",
       "      <td>0.866025</td>\n",
       "      <td>1.000000</td>\n",
       "    </tr>\n",
       "  </tbody>\n",
       "</table>\n",
       "</div>"
      ],
      "text/plain": [
       "          fish1    fish2  fish3     fish4     fish5\n",
       "fish1  1.000000  0.57735    0.0  0.866025  1.000000\n",
       "fish2  0.577350  1.00000    0.0  0.500000  0.577350\n",
       "fish3  0.000000  0.00000    1.0  0.500000  0.000000\n",
       "fish4  0.866025  0.50000    0.5  1.000000  0.866025\n",
       "fish5  1.000000  0.57735    0.0  0.866025  1.000000"
      ]
     },
     "execution_count": 155,
     "metadata": {},
     "output_type": "execute_result"
    }
   ],
   "source": [
    "#calculate cosine similarity\n",
    "cosine_sim_sk = pd.DataFrame(cosine_similarity(df_example2), columns=[\"fish1\", \"fish2\", \"fish3\", \"fish4\", \"fish5\"], index= [\"fish1\", \"fish2\", \"fish3\", \"fish4\", \"fish5\"])\n",
    "cosine_sim_sk"
   ]
  },
  {
   "cell_type": "markdown",
   "metadata": {},
   "source": [
    "How to interpret this?"
   ]
  },
  {
   "cell_type": "markdown",
   "metadata": {},
   "source": [
    "You can see, that fish1 is of course totally similar to itself, indicated by a value of 1. Then fish1 is less similar to fish 2 (only one overlap) as to fish 4 (three overlaps) and has no similarity to fish3 while it is totally similar to fish5."
   ]
  },
  {
   "cell_type": "markdown",
   "metadata": {},
   "source": [
    "## Now, let's start to build our first recommender system :)"
   ]
  },
  {
   "cell_type": "markdown",
   "metadata": {},
   "source": [
    "To calculate the cosine similarity for our fishes in our original data frame, we need to transform the features into binary vectors. To do this we use the get_dummies function implemented in scikit-learn."
   ]
  },
  {
   "cell_type": "code",
   "execution_count": 156,
   "metadata": {},
   "outputs": [
    {
     "data": {
      "text/html": [
       "<div>\n",
       "<style scoped>\n",
       "    .dataframe tbody tr th:only-of-type {\n",
       "        vertical-align: middle;\n",
       "    }\n",
       "\n",
       "    .dataframe tbody tr th {\n",
       "        vertical-align: top;\n",
       "    }\n",
       "\n",
       "    .dataframe thead th {\n",
       "        text-align: right;\n",
       "    }\n",
       "</style>\n",
       "<table border=\"1\" class=\"dataframe\">\n",
       "  <thead>\n",
       "    <tr style=\"text-align: right;\">\n",
       "      <th></th>\n",
       "      <th>water_parameters_brackish water</th>\n",
       "      <th>water_parameters_hard water</th>\n",
       "      <th>water_parameters_medium hard to hard</th>\n",
       "      <th>water_parameters_medium hard water</th>\n",
       "      <th>water_parameters_soft to hard</th>\n",
       "      <th>water_parameters_soft to medium hard</th>\n",
       "      <th>water_parameters_soft water</th>\n",
       "      <th>fish_group_Barbs</th>\n",
       "      <th>fish_group_Beardies</th>\n",
       "      <th>fish_group_Bone Tongues</th>\n",
       "      <th>...</th>\n",
       "      <th>characteristics_growth eater</th>\n",
       "      <th>characteristics_interesting color</th>\n",
       "      <th>characteristics_interesting parental care</th>\n",
       "      <th>characteristics_snail eater</th>\n",
       "      <th>compatibility_with_large_crayfish_conditional (see description)</th>\n",
       "      <th>compatibility_with_large_crayfish_no</th>\n",
       "      <th>compatibility_with_large_crayfish_yes</th>\n",
       "      <th>life_expectancy_10+ years</th>\n",
       "      <th>life_expectancy_3-5 years</th>\n",
       "      <th>life_expectancy_5-10 years</th>\n",
       "    </tr>\n",
       "  </thead>\n",
       "  <tbody>\n",
       "    <tr>\n",
       "      <th>0</th>\n",
       "      <td>0</td>\n",
       "      <td>0</td>\n",
       "      <td>0</td>\n",
       "      <td>0</td>\n",
       "      <td>1</td>\n",
       "      <td>0</td>\n",
       "      <td>0</td>\n",
       "      <td>0</td>\n",
       "      <td>1</td>\n",
       "      <td>0</td>\n",
       "      <td>...</td>\n",
       "      <td>0</td>\n",
       "      <td>0</td>\n",
       "      <td>0</td>\n",
       "      <td>0</td>\n",
       "      <td>0</td>\n",
       "      <td>1</td>\n",
       "      <td>0</td>\n",
       "      <td>0</td>\n",
       "      <td>1</td>\n",
       "      <td>0</td>\n",
       "    </tr>\n",
       "    <tr>\n",
       "      <th>1</th>\n",
       "      <td>0</td>\n",
       "      <td>0</td>\n",
       "      <td>0</td>\n",
       "      <td>0</td>\n",
       "      <td>0</td>\n",
       "      <td>1</td>\n",
       "      <td>0</td>\n",
       "      <td>0</td>\n",
       "      <td>0</td>\n",
       "      <td>0</td>\n",
       "      <td>...</td>\n",
       "      <td>0</td>\n",
       "      <td>0</td>\n",
       "      <td>0</td>\n",
       "      <td>0</td>\n",
       "      <td>0</td>\n",
       "      <td>0</td>\n",
       "      <td>0</td>\n",
       "      <td>0</td>\n",
       "      <td>0</td>\n",
       "      <td>0</td>\n",
       "    </tr>\n",
       "    <tr>\n",
       "      <th>2</th>\n",
       "      <td>0</td>\n",
       "      <td>0</td>\n",
       "      <td>0</td>\n",
       "      <td>0</td>\n",
       "      <td>0</td>\n",
       "      <td>1</td>\n",
       "      <td>0</td>\n",
       "      <td>0</td>\n",
       "      <td>0</td>\n",
       "      <td>0</td>\n",
       "      <td>...</td>\n",
       "      <td>0</td>\n",
       "      <td>0</td>\n",
       "      <td>0</td>\n",
       "      <td>0</td>\n",
       "      <td>0</td>\n",
       "      <td>0</td>\n",
       "      <td>0</td>\n",
       "      <td>0</td>\n",
       "      <td>0</td>\n",
       "      <td>0</td>\n",
       "    </tr>\n",
       "    <tr>\n",
       "      <th>3</th>\n",
       "      <td>0</td>\n",
       "      <td>0</td>\n",
       "      <td>0</td>\n",
       "      <td>0</td>\n",
       "      <td>0</td>\n",
       "      <td>1</td>\n",
       "      <td>0</td>\n",
       "      <td>0</td>\n",
       "      <td>0</td>\n",
       "      <td>0</td>\n",
       "      <td>...</td>\n",
       "      <td>0</td>\n",
       "      <td>0</td>\n",
       "      <td>0</td>\n",
       "      <td>0</td>\n",
       "      <td>0</td>\n",
       "      <td>0</td>\n",
       "      <td>0</td>\n",
       "      <td>0</td>\n",
       "      <td>0</td>\n",
       "      <td>0</td>\n",
       "    </tr>\n",
       "    <tr>\n",
       "      <th>4</th>\n",
       "      <td>0</td>\n",
       "      <td>0</td>\n",
       "      <td>0</td>\n",
       "      <td>0</td>\n",
       "      <td>0</td>\n",
       "      <td>1</td>\n",
       "      <td>0</td>\n",
       "      <td>0</td>\n",
       "      <td>0</td>\n",
       "      <td>0</td>\n",
       "      <td>...</td>\n",
       "      <td>0</td>\n",
       "      <td>0</td>\n",
       "      <td>0</td>\n",
       "      <td>0</td>\n",
       "      <td>0</td>\n",
       "      <td>0</td>\n",
       "      <td>0</td>\n",
       "      <td>0</td>\n",
       "      <td>0</td>\n",
       "      <td>0</td>\n",
       "    </tr>\n",
       "  </tbody>\n",
       "</table>\n",
       "<p>5 rows × 114 columns</p>\n",
       "</div>"
      ],
      "text/plain": [
       "   water_parameters_brackish water  water_parameters_hard water  \\\n",
       "0                                0                            0   \n",
       "1                                0                            0   \n",
       "2                                0                            0   \n",
       "3                                0                            0   \n",
       "4                                0                            0   \n",
       "\n",
       "   water_parameters_medium hard to hard  water_parameters_medium hard water  \\\n",
       "0                                     0                                   0   \n",
       "1                                     0                                   0   \n",
       "2                                     0                                   0   \n",
       "3                                     0                                   0   \n",
       "4                                     0                                   0   \n",
       "\n",
       "   water_parameters_soft to hard  water_parameters_soft to medium hard  \\\n",
       "0                              1                                     0   \n",
       "1                              0                                     1   \n",
       "2                              0                                     1   \n",
       "3                              0                                     1   \n",
       "4                              0                                     1   \n",
       "\n",
       "   water_parameters_soft water  fish_group_Barbs  fish_group_Beardies  \\\n",
       "0                            0                 0                    1   \n",
       "1                            0                 0                    0   \n",
       "2                            0                 0                    0   \n",
       "3                            0                 0                    0   \n",
       "4                            0                 0                    0   \n",
       "\n",
       "   fish_group_Bone Tongues  ...  characteristics_growth eater  \\\n",
       "0                        0  ...                             0   \n",
       "1                        0  ...                             0   \n",
       "2                        0  ...                             0   \n",
       "3                        0  ...                             0   \n",
       "4                        0  ...                             0   \n",
       "\n",
       "   characteristics_interesting color  \\\n",
       "0                                  0   \n",
       "1                                  0   \n",
       "2                                  0   \n",
       "3                                  0   \n",
       "4                                  0   \n",
       "\n",
       "   characteristics_interesting parental care  characteristics_snail eater  \\\n",
       "0                                          0                            0   \n",
       "1                                          0                            0   \n",
       "2                                          0                            0   \n",
       "3                                          0                            0   \n",
       "4                                          0                            0   \n",
       "\n",
       "   compatibility_with_large_crayfish_conditional (see description)  \\\n",
       "0                                                  0                 \n",
       "1                                                  0                 \n",
       "2                                                  0                 \n",
       "3                                                  0                 \n",
       "4                                                  0                 \n",
       "\n",
       "   compatibility_with_large_crayfish_no  \\\n",
       "0                                     1   \n",
       "1                                     0   \n",
       "2                                     0   \n",
       "3                                     0   \n",
       "4                                     0   \n",
       "\n",
       "   compatibility_with_large_crayfish_yes  life_expectancy_10+ years  \\\n",
       "0                                      0                          0   \n",
       "1                                      0                          0   \n",
       "2                                      0                          0   \n",
       "3                                      0                          0   \n",
       "4                                      0                          0   \n",
       "\n",
       "   life_expectancy_3-5 years  life_expectancy_5-10 years  \n",
       "0                          1                           0  \n",
       "1                          0                           0  \n",
       "2                          0                           0  \n",
       "3                          0                           0  \n",
       "4                          0                           0  \n",
       "\n",
       "[5 rows x 114 columns]"
      ]
     },
     "execution_count": 156,
     "metadata": {},
     "output_type": "execute_result"
    }
   ],
   "source": [
    "df_vectorized = pd.get_dummies(df.iloc[:, 1:])\n",
    "df_vectorized.head()"
   ]
  },
  {
   "cell_type": "markdown",
   "metadata": {},
   "source": [
    "You can see that this increases the numbers of features from 24 to 114. "
   ]
  },
  {
   "cell_type": "markdown",
   "metadata": {},
   "source": [
    "Let's calculate the cosine similarity:"
   ]
  },
  {
   "cell_type": "code",
   "execution_count": 157,
   "metadata": {},
   "outputs": [],
   "source": [
    "#calculate cosine similarity\n",
    "cosine_sim_sk = pd.DataFrame(cosine_similarity(df_vectorized))"
   ]
  },
  {
   "cell_type": "markdown",
   "metadata": {},
   "source": [
    "And finally the function to get recommendations."
   ]
  },
  {
   "cell_type": "markdown",
   "metadata": {},
   "source": [
    "This function takes in the name of a fish, checks the similarity scores compared to other fish, sorts the values and gives out the 10 most similar fish based on similarity score. Just type in a name of a fish in the data frame and you will get recommended the 10 most similar fish."
   ]
  },
  {
   "cell_type": "code",
   "execution_count": 158,
   "metadata": {},
   "outputs": [],
   "source": [
    "# Build a 1-dimensional array with fish names\n",
    "names = df['name']\n",
    "indices = pd.Series(df.index, index=df['name'])\n",
    "\n",
    "# Function that get fish recommendations based on the cosine similarity \n",
    "def fish_recommendations(name):\n",
    "    idx = indices[name]\n",
    "    sim_scores = list(enumerate(cosine_sim_sk[idx]))\n",
    "    sim_scores = sorted(sim_scores, key=lambda x: x[1], reverse=True)\n",
    "    sim_scores = sim_scores[1:11]\n",
    "    fish_indices = [i[0] for i in sim_scores]\n",
    "    return names.iloc[fish_indices]"
   ]
  },
  {
   "cell_type": "markdown",
   "metadata": {},
   "source": [
    "Now, use this function to get recommendations :)"
   ]
  },
  {
   "cell_type": "code",
   "execution_count": 159,
   "metadata": {},
   "outputs": [
    {
     "data": {
      "text/plain": [
       "3                   Red Neon XL - Paracheirodon axelrodi\n",
       "11              Sparkling Tetra - Hyphessobrycon amandae\n",
       "26        Glowlight Tetra DNZ - Hemigrammus erythrozonus\n",
       "32               Rio Red - Hyphessobrycon flammeus - DNZ\n",
       "85                  Dwarf tetra - Nannostomus marginatus\n",
       "128              Red Neon - Paracheirodon axelrodi - DNZ\n",
       "4                      Neon Tetra - Paracheirodon innesi\n",
       "5      Neon tetra \"diamant\" EU-NZ - Paracheirodon innesi\n",
       "15                     Copper Tetra DNZ - Hasemania nana\n",
       "27     Black Emperor Tetra - Nematobrycon palmeri \"bl...\n",
       "Name: name, dtype: object"
      ]
     },
     "execution_count": 159,
     "metadata": {},
     "output_type": "execute_result"
    }
   ],
   "source": [
    "#get recommendations\n",
    "fish_recommendations('Blue Neon - Paracheirodon simulans')"
   ]
  },
  {
   "cell_type": "markdown",
   "metadata": {},
   "source": [
    "## Text related content-based recommender"
   ]
  },
  {
   "cell_type": "markdown",
   "metadata": {},
   "source": [
    "When you think of online warehouses or movie databases, many items got descriptions in text form. Content-based recommender system are often build on these descriptions as they contain useful information about the article. In the following you will find an example of how to build a text based recommender system."
   ]
  },
  {
   "cell_type": "markdown",
   "metadata": {},
   "source": [
    "First we have to create a text block, we can work with. Let's join our features to text. "
   ]
  },
  {
   "cell_type": "code",
   "execution_count": 160,
   "metadata": {},
   "outputs": [],
   "source": [
    "#set column types to string for whole data frame\n",
    "df = df.astype(str)\n",
    "columns = df.columns\n",
    "#merge features to text block\n",
    "df['text'] = df[columns].agg(' '.join, axis=1)\n"
   ]
  },
  {
   "cell_type": "markdown",
   "metadata": {},
   "source": [
    "Let's have a look at the text."
   ]
  },
  {
   "cell_type": "code",
   "execution_count": 161,
   "metadata": {},
   "outputs": [
    {
     "data": {
      "text/plain": [
       "'Cardinalfish - Tanichthys albonubes soft to hard Beardies no 18-22 °C everywhere active yes, with peaceful fish 54 l (ca. 60cm) medium swarm behaviour with dwarf shrimp, offspring may be eaten Asia omnivorous - omnivorous yes yes yes 4-8 cm 1 - easy dynamic group behaviour no 3-5 years'"
      ]
     },
     "execution_count": 161,
     "metadata": {},
     "output_type": "execute_result"
    }
   ],
   "source": [
    "#check first element\n",
    "df.text[0]"
   ]
  },
  {
   "cell_type": "markdown",
   "metadata": {},
   "source": [
    "## Text vectorization"
   ]
  },
  {
   "cell_type": "markdown",
   "metadata": {},
   "source": [
    "\n",
    "Different tools are available to vectorize texts. Dependent on your problem, you can use NLP methods like CountVectorizer, TfidfVectorizor or words2vec. In this notebook we will use the tfidfVectorizer. Documentation can be found [here](https://scikit-learn.org/stable/modules/generated/sklearn.feature_extraction.text.TfidfVectorizer.html). TF-IDF or Term Frequency Inverse Document Frequency is a statistical measure to determine the significance of different words in a document. Subsequently every word gets a TF-IDF value. This value is the product of the Term frequency (TF) and the inverse document frequency (IDF).</br></br>\n",
    "\n",
    "Let's have a look at an example with 3 sentences where each sentence represents a document:\n",
    "\n",
    "1. Recommender are cool\n",
    "2. Recommender are helpful\n",
    "3. Recommender use your data\n",
    "\n",
    "In these 3 sentences the term \"recommender\" occurs 3 times, the therm \"are\" 2 times and \"use\" 1 time.</br></br>\n",
    "\n",
    "\n",
    "Let's calculate the TF (term-frequency) for those sentences.\n",
    "\n",
    "1. [0.33, 0.33, 0.33] \n",
    "2. [0.33, 0.33, 0.33] \n",
    "3. [0.25, 0.25, 0.25, 0.25]\n",
    "\n",
    "In sentence 1. are 3 unique words, the frequency of each word is therefore 1/3, same in sentence 2.Sentence 4 contains of 4 unique words with a corresponding frequency of 1/4.</br></br>\n",
    "\n",
    "Now, let's have a look at the IDF (inverse document frequency)</br></br>\n",
    "\n",
    "The IDF is the logarithm of the ratio of the total number of documents to the number of documents having this term. \n",
    "\n",
    "* The word \"recommender\" appears in all 3 documents and has therefore a Log(3/3) = 0\n",
    "* The word \"are\" appears in two documents with a corresponding Log(3/2) = 0.176\n",
    "* The words \"cool\", \"helpful\", etc appear in only one document leading to a Log(3/1) = 0.477</br></br>\n",
    "\n",
    "The IDF is a measure of how much information the word provides and as you can see, the IDF is higher the rarer the word is. This means rare words are more meaningful to get the context of a document.</br></br>\n",
    "\n",
    "\n",
    "The TF-IDF of a word then is the product of the tf and the idf value. The higher the score, the more relevant is this word for that particular document and with regards to recommender system the more important they are to distinguish categories. \n",
    "\n",
    "\n",
    "\n"
   ]
  },
  {
   "cell_type": "markdown",
   "metadata": {},
   "source": [
    "Now that we've learned how TF-IDF works, let's vectorize our data frame:"
   ]
  },
  {
   "cell_type": "code",
   "execution_count": 162,
   "metadata": {},
   "outputs": [],
   "source": [
    "#vectorize description column\n",
    "tf = TfidfVectorizer(analyzer='word',ngram_range=(1, 2),min_df=0, stop_words='english')\n",
    "tfidf_matrix = tf.fit_transform(df['text'])"
   ]
  },
  {
   "cell_type": "markdown",
   "metadata": {},
   "source": [
    "Since we now have a vecorized matrix of our data, we can likewise above calculate the cosine similarity on it."
   ]
  },
  {
   "cell_type": "code",
   "execution_count": 163,
   "metadata": {},
   "outputs": [],
   "source": [
    "#calculate cosine similarity\n",
    "cosine_sim = linear_kernel(tfidf_matrix, tfidf_matrix) "
   ]
  },
  {
   "cell_type": "markdown",
   "metadata": {},
   "source": [
    "And use the cosine similarity matrix to get our top 10 recommendations."
   ]
  },
  {
   "cell_type": "code",
   "execution_count": 164,
   "metadata": {},
   "outputs": [],
   "source": [
    "# Build a 1-dimensional array with fish names\n",
    "names = df['name']\n",
    "indices = pd.Series(df.index, index=df['name'])\n",
    "\n",
    "# Function that get fish recommendations based on the cosine similarity \n",
    "def fish_recommendations(name):\n",
    "    idx = indices[name]\n",
    "    sim_scores = list(enumerate(cosine_sim_sk[idx]))\n",
    "    sim_scores = sorted(sim_scores, key=lambda x: x[1], reverse=True)\n",
    "    sim_scores = sim_scores[1:11]\n",
    "    fish_indices = [i[0] for i in sim_scores]\n",
    "    return names.iloc[fish_indices]"
   ]
  },
  {
   "cell_type": "code",
   "execution_count": 165,
   "metadata": {},
   "outputs": [
    {
     "data": {
      "text/plain": [
       "3                   Red Neon XL - Paracheirodon axelrodi\n",
       "11              Sparkling Tetra - Hyphessobrycon amandae\n",
       "26        Glowlight Tetra DNZ - Hemigrammus erythrozonus\n",
       "32               Rio Red - Hyphessobrycon flammeus - DNZ\n",
       "85                  Dwarf tetra - Nannostomus marginatus\n",
       "128              Red Neon - Paracheirodon axelrodi - DNZ\n",
       "4                      Neon Tetra - Paracheirodon innesi\n",
       "5      Neon tetra \"diamant\" EU-NZ - Paracheirodon innesi\n",
       "15                     Copper Tetra DNZ - Hasemania nana\n",
       "27     Black Emperor Tetra - Nematobrycon palmeri \"bl...\n",
       "Name: name, dtype: object"
      ]
     },
     "execution_count": 165,
     "metadata": {},
     "output_type": "execute_result"
    }
   ],
   "source": [
    "#get recommendations\n",
    "fish_recommendations('Blue Neon - Paracheirodon simulans')"
   ]
  },
  {
   "cell_type": "markdown",
   "metadata": {},
   "source": [
    "Inspecting the outcome, you can see that the most similar fish to the blue neon is the red neon, a close relative. If you want you can now play around with different fish names or use this notebook as a template for your own recommender :)"
   ]
  }
 ],
 "metadata": {
  "kernelspec": {
   "display_name": "Python 3.9.4 ('.venv': venv)",
   "language": "python",
   "name": "python3"
  },
  "language_info": {
   "codemirror_mode": {
    "name": "ipython",
    "version": 3
   },
   "file_extension": ".py",
   "mimetype": "text/x-python",
   "name": "python",
   "nbconvert_exporter": "python",
   "pygments_lexer": "ipython3",
   "version": "3.9.4"
  },
  "orig_nbformat": 4,
  "vscode": {
   "interpreter": {
    "hash": "e7c571947cfb866b878ed74aee86da3d4d50f96f1dd9dbfea7e297ce4396c8e0"
   }
  }
 },
 "nbformat": 4,
 "nbformat_minor": 2
}
